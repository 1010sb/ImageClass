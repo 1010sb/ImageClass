{
 "cells": [
  {
   "cell_type": "code",
   "execution_count": 1,
   "id": "de666fc1",
   "metadata": {},
   "outputs": [],
   "source": [
    "import pandas as pd"
   ]
  },
  {
   "cell_type": "code",
   "execution_count": 3,
   "id": "dff71b14",
   "metadata": {},
   "outputs": [],
   "source": [
    "df = pd.read_csv('batch_result_20231213_155202.csv')"
   ]
  },
  {
   "cell_type": "code",
   "execution_count": 7,
   "id": "f40cfb8d",
   "metadata": {},
   "outputs": [
    {
     "data": {
      "text/html": [
       "<div>\n",
       "<style scoped>\n",
       "    .dataframe tbody tr th:only-of-type {\n",
       "        vertical-align: middle;\n",
       "    }\n",
       "\n",
       "    .dataframe tbody tr th {\n",
       "        vertical-align: top;\n",
       "    }\n",
       "\n",
       "    .dataframe thead th {\n",
       "        text-align: right;\n",
       "    }\n",
       "</style>\n",
       "<table border=\"1\" class=\"dataframe\">\n",
       "  <thead>\n",
       "    <tr style=\"text-align: right;\">\n",
       "      <th></th>\n",
       "      <th>filename</th>\n",
       "      <th>predicted_class</th>\n",
       "      <th>predicted_probability</th>\n",
       "    </tr>\n",
       "  </thead>\n",
       "  <tbody>\n",
       "    <tr>\n",
       "      <th>0</th>\n",
       "      <td>test_images_1_test_image_0.png</td>\n",
       "      <td>T-shirt/top</td>\n",
       "      <td>80</td>\n",
       "    </tr>\n",
       "    <tr>\n",
       "      <th>1</th>\n",
       "      <td>test_images_1_test_image_1.png</td>\n",
       "      <td>Trouser</td>\n",
       "      <td>100</td>\n",
       "    </tr>\n",
       "    <tr>\n",
       "      <th>2</th>\n",
       "      <td>test_images_1_test_image_10.png</td>\n",
       "      <td>Dress</td>\n",
       "      <td>98</td>\n",
       "    </tr>\n",
       "    <tr>\n",
       "      <th>3</th>\n",
       "      <td>test_images_1_test_image_100.png</td>\n",
       "      <td>Ankle boot</td>\n",
       "      <td>99</td>\n",
       "    </tr>\n",
       "    <tr>\n",
       "      <th>4</th>\n",
       "      <td>test_images_1_test_image_101.png</td>\n",
       "      <td>Shirt</td>\n",
       "      <td>42</td>\n",
       "    </tr>\n",
       "    <tr>\n",
       "      <th>5</th>\n",
       "      <td>test_images_1_test_image_102.png</td>\n",
       "      <td>Ankle boot</td>\n",
       "      <td>99</td>\n",
       "    </tr>\n",
       "    <tr>\n",
       "      <th>6</th>\n",
       "      <td>test_images_1_test_image_103.png</td>\n",
       "      <td>Coat</td>\n",
       "      <td>39</td>\n",
       "    </tr>\n",
       "    <tr>\n",
       "      <th>7</th>\n",
       "      <td>test_images_1_test_image_104.png</td>\n",
       "      <td>Bag</td>\n",
       "      <td>99</td>\n",
       "    </tr>\n",
       "    <tr>\n",
       "      <th>8</th>\n",
       "      <td>test_images_1_test_image_105.png</td>\n",
       "      <td>Pullover</td>\n",
       "      <td>93</td>\n",
       "    </tr>\n",
       "    <tr>\n",
       "      <th>9</th>\n",
       "      <td>test_images_1_test_image_106.png</td>\n",
       "      <td>Dress</td>\n",
       "      <td>98</td>\n",
       "    </tr>\n",
       "  </tbody>\n",
       "</table>\n",
       "</div>"
      ],
      "text/plain": [
       "                           filename predicted_class  predicted_probability\n",
       "0    test_images_1_test_image_0.png     T-shirt/top                     80\n",
       "1    test_images_1_test_image_1.png         Trouser                    100\n",
       "2   test_images_1_test_image_10.png           Dress                     98\n",
       "3  test_images_1_test_image_100.png      Ankle boot                     99\n",
       "4  test_images_1_test_image_101.png           Shirt                     42\n",
       "5  test_images_1_test_image_102.png      Ankle boot                     99\n",
       "6  test_images_1_test_image_103.png            Coat                     39\n",
       "7  test_images_1_test_image_104.png             Bag                     99\n",
       "8  test_images_1_test_image_105.png        Pullover                     93\n",
       "9  test_images_1_test_image_106.png           Dress                     98"
      ]
     },
     "execution_count": 7,
     "metadata": {},
     "output_type": "execute_result"
    }
   ],
   "source": [
    "df.head(10)"
   ]
  },
  {
   "cell_type": "code",
   "execution_count": null,
   "id": "7927bd9f",
   "metadata": {},
   "outputs": [],
   "source": []
  }
 ],
 "metadata": {
  "kernelspec": {
   "display_name": "Python 3 (ipykernel)",
   "language": "python",
   "name": "python3"
  },
  "language_info": {
   "codemirror_mode": {
    "name": "ipython",
    "version": 3
   },
   "file_extension": ".py",
   "mimetype": "text/x-python",
   "name": "python",
   "nbconvert_exporter": "python",
   "pygments_lexer": "ipython3",
   "version": "3.9.13"
  }
 },
 "nbformat": 4,
 "nbformat_minor": 5
}
